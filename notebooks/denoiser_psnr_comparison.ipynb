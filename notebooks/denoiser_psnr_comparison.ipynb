{
 "cells": [
  {
   "cell_type": "markdown",
   "metadata": {},
   "source": [
    "## Objective\n",
    "Here, we inspect the denoiser performance. we use the stored prediction files to do that."
   ]
  },
  {
   "cell_type": "code",
   "execution_count": null,
   "metadata": {},
   "outputs": [],
   "source": [
    "from IPython.display import display, HTML\n",
    "display(HTML(\"<style>.container { width:100% !important; }</style>\"))"
   ]
  },
  {
   "cell_type": "code",
   "execution_count": null,
   "metadata": {},
   "outputs": [],
   "source": [
    "import os\n",
    "DEBUG=False\n",
    "%run ./nb_core/root_dirs.ipynb\n",
    "setup_syspath_disentangle(DEBUG)\n",
    "%run ./nb_core/disentangle_imports.ipynb"
   ]
  },
  {
   "cell_type": "code",
   "execution_count": null,
   "metadata": {},
   "outputs": [],
   "source": []
  },
  {
   "cell_type": "code",
   "execution_count": null,
   "metadata": {},
   "outputs": [],
   "source": [
    "from denoisplit.scripts.evaluate import * \n",
    "from denoisplit.config_utils import get_configdir_from_saved_predictionfile, load_config\n",
    "from denoisplit.core.data_split_type import DataSplitType\n",
    "from denoisplit.core.tiff_reader import load_tiff\n",
    "from denoisplit.core.data_split_type import get_datasplit_tuples\n",
    "import ml_collections\n",
    "\n",
    "\n",
    "\n",
    "# data_dir = '/group/jug/ashesh/data/paper_stats/All_P128_G64_M50_Sk44/'\n",
    "data_dir = '/group/jug/ashesh/data/paper_stats/All_P128_G64_M50_Sk32'\n",
    "# data_dir = '/group/jug/ashesh/data/paper_stats/All_P128_G64_M50_Sk0'\n",
    "denoiser_prediction_fname = \"pred_disentangle_2402_D3-M23-S0-L0_11.tif\"\n",
    "channel_idx = 0\n",
    "\n",
    "# get the prediction. \n",
    "pred = load_tiff(os.path.join(data_dir, denoiser_prediction_fname))\n",
    "_, _ , test_idx = get_datasplit_tuples(0.1, 0.1, pred.shape[0], starting_test = False)\n",
    "test_pred = pred[test_idx]\n",
    "denoiser_configdir = get_configdir_from_saved_predictionfile(denoiser_prediction_fname)\n",
    "print(denoiser_configdir)\n",
    "\n",
    "# get the highres data\n",
    "denoiser_config = load_config(denoiser_configdir)\n",
    "denoiser_config = ml_collections.ConfigDict(denoiser_config)\n",
    "if denoiser_config.data.data_type == DataType.BioSR_MRC:\n",
    "    denoiser_input_dir = '/group/jug/ashesh/data/BioSR/'\n",
    "elif denoiser_config.data.data_type == DataType.OptiMEM100_014:\n",
    "    denoiser_input_dir = '/group/jug/ashesh/data/microscopy/OptiMEM100x014.tif'\n",
    "elif denoiser_config.data.data_type == DataType.SeparateTiffData:\n",
    "    denoiser_input_dir = '/group/jug/ashesh/data/ventura_gigascience/'\n",
    "    denoiser_config.data.ch1_fname = denoiser_config.data.ch1_fname.replace('lowsnr', 'highsnr')\n",
    "    denoiser_config.data.ch2_fname = denoiser_config.data.ch2_fname.replace('lowsnr', 'highsnr')\n",
    "with denoiser_config.unlocked():\n",
    "    highres_data = get_data_without_synthetic_noise(denoiser_input_dir, denoiser_config, DataSplitType.Test)\n",
    "\n",
    "h, w = pred.shape[1:3]\n",
    "highres_data = highres_data[:, :h, :w]\n",
    "highres_data = highres_data[..., channel_idx].copy()"
   ]
  },
  {
   "cell_type": "code",
   "execution_count": null,
   "metadata": {},
   "outputs": [],
   "source": [
    "_,ax = plt.subplots(figsize=(8,4),ncols=2)\n",
    "ax[0].imshow(test_pred[-1])\n",
    "ax[1].imshow(highres_data[-1,...])"
   ]
  },
  {
   "cell_type": "code",
   "execution_count": null,
   "metadata": {},
   "outputs": [],
   "source": [
    "from denoisplit.core.psnr import RangeInvariantPsnr\n",
    "print(f'PSNR: {RangeInvariantPsnr(highres_data.astype(np.float32), test_pred.astype(np.float32)).mean().item():.2f}')"
   ]
  },
  {
   "cell_type": "code",
   "execution_count": null,
   "metadata": {},
   "outputs": [],
   "source": [
    "hdn_psnr_dict = {\n",
    "    \"2402/D16-M23-S0-L0/93\": \"39.230\",\n",
    "    \"2402/D16-M23-S0-L0/88\": \"43.930\",\n",
    "    \"2402/D16-M23-S0-L0/94\": \"37.86\",\n",
    "    \"2402/D16-M23-S0-L0/89\": \"42.1\",\n",
    "    \"2402/D16-M23-S0-L0/95\": \"36.68\",\n",
    "    \"2402/D16-M23-S0-L0/87\": \"40.66\",\n",
    "    \"2402/D16-M23-S0-L0/92\": \"33.38\",\n",
    "    \"2402/D16-M23-S0-L0/90\": \"29.39\",\n",
    "    \"2402/D16-M23-S0-L0/104\": \"38.320\",\n",
    "    \"2402/D16-M23-S0-L0/96\": \"36.48\",\n",
    "    \"2402/D16-M23-S0-L0/105\": \"36.78\",\n",
    "    \"2402/D16-M23-S0-L0/97\":   \"34.92\",\n",
    "    \"2402/D16-M23-S0-L0/106\": \"35.43\",\n",
    "    \"2402/D16-M23-S0-L0/98\": \"33.8\",\n",
    "    \"2402/D16-M23-S0-L0/107\": \"31.81\",\n",
    "    \"2402/D16-M23-S0-L0/99\": \"30.32\",\n",
    "    \"2402/D16-M23-S0-L0/114\": \"44.13\",\n",
    "    \"2402/D16-M23-S0-L0/101\": \"37.3\",\n",
    "    \"2402/D16-M23-S0-L0/113\": \"42.21\",\n",
    "    \"2402/D16-M23-S0-L0/100\": \"36.37\",\n",
    "    \"2402/D16-M23-S0-L0/117\": \"40.91\",\n",
    "    \"2402/D16-M23-S0-L0/103\": \"35.18\",\n",
    "    \"2402/D16-M23-S0-L0/120\": \"29.390\",\n",
    "    \"2402/D16-M23-S0-L0/102\": \"32.03\",\n",
    "}"
   ]
  },
  {
   "cell_type": "code",
   "execution_count": null,
   "metadata": {},
   "outputs": [],
   "source": [
    "import json\n",
    "import os\n",
    "from denoisplit.config_utils import load_config\n",
    "dir = '/home/ashesh.ashesh/training/disentangle/'\n",
    "class ConfigInfo:\n",
    "    def __init__(self, config_path) -> None:\n",
    "        self._config_path = config_path\n",
    "        self.cfg = self.get_config_from_path(config_path)\n",
    "\n",
    "    def get_config_from_path(self, config_path):\n",
    "        config_fpath = os.path.join(dir, config_path)\n",
    "        return load_config(config_fpath)\n",
    "\n",
    "    def get_noise_level(self):\n",
    "        return self.cfg.data.synthetic_gaussian_scale, self.cfg.data.poisson_noise_factor\n",
    "    \n",
    "    def get_channel(self):\n",
    "        if 'denoise_channel' in self.cfg and self.cfg.model.denoise_channel == 'Ch1':\n",
    "            return self.cfg.data.ch1_fname\n",
    "        elif 'denoise_channel' in self.cfg and self.cfg.model.denoise_channel == 'Ch2':\n",
    "            return self.cfg.data.ch2_fname\n",
    "        else:\n",
    "            return [self.cfg.data.ch1_fname, self.cfg.data.ch2_fname]\n"
   ]
  },
  {
   "cell_type": "code",
   "execution_count": null,
   "metadata": {},
   "outputs": [],
   "source": [
    "import pandas as pd\n",
    "hdn_df = pd.DataFrame([], columns=['Gaus', 'Pois', 'Ch', 'PSNR'])\n",
    "for key, val in hdn_psnr_dict.items():\n",
    "    config = ConfigInfo(key)\n",
    "    hdn_df.loc[key] = [config.get_noise_level()[0], config.get_noise_level()[1], config.get_channel(), float(val)]\n",
    "    # print(f'{key}: {val} - {config.get_noise_level()} - {config.get_channel()}')"
   ]
  },
  {
   "cell_type": "code",
   "execution_count": null,
   "metadata": {},
   "outputs": [],
   "source": [
    "hdn_df[hdn_df.Ch=='ER/GT_all.mrc'].sort_values('Gaus')['PSNR'].plot(marker='o', linestyle='-', label='ER/GT_all.mrc')"
   ]
  },
  {
   "cell_type": "code",
   "execution_count": null,
   "metadata": {},
   "outputs": [],
   "source": [
    "denoisplit_dict = {\n",
    "    \"2402/D16-M3-S0-L0/149\": \"[36.79, 38.93]\",\n",
    "    \"2402/D16-M3-S0-L0/143\": \"[35.36, 37.24]\",\n",
    "    \"2402/D16-M3-S0-L0/151\": \"[33.96, 36.1]\",\n",
    "    \"2402/D16-M3-S0-L0/153\": \"[30.47, 31.92]\",\n",
    "    \"2402/D16-M3-S0-L0/150\":\"[30.2, 29.77]\",\n",
    "    \"2402/D16-M3-S0-L0/144\":\"[29.2, 28.71]\",\n",
    "    \"2402/D16-M3-S0-L0/152\": \"[27.42, 26.65]\",\n",
    "    \"2402/D16-M3-S0-L0/155\": \"[25.19, 24.49]\",\n",
    "    \"2402/D16-M3-S0-L0/154\": \"[39.9, 36.36]\",\n",
    "    \"2402/D16-M3-S0-L0/145\": \"[38.44, 34.85]\",\n",
    "    \"2402/D16-M3-S0-L0/156\": \"[36.82, 33.51]\",\n",
    "    \"2402/D16-M3-S0-L0/157\": \"[32.24, 29.07]\"\n",
    "\n",
    "}\n",
    "df_denoisplit = pd.DataFrame([], columns=['Gaus', 'Pois', 'Ch', 'PSNR'])\n",
    "for key, val in denoisplit_dict.items():\n",
    "    config = ConfigInfo(key)\n",
    "    val = json.loads(val)\n",
    "    for ch_idx in [0,1]:\n",
    "        k = f'{key}_Ch{ch_idx}'\n",
    "        df_denoisplit.loc[k] = [config.get_noise_level()[0], config.get_noise_level()[1], config.get_channel()[ch_idx], val[ch_idx]]\n",
    "    # print(f'{key}: {val} - {config.get_noise_level()} - {config.get_channel()}')"
   ]
  },
  {
   "cell_type": "code",
   "execution_count": null,
   "metadata": {},
   "outputs": [],
   "source": [
    "df_denoisplit = df_denoisplit.set_index(['Gaus','Pois','Ch'])\n",
    "df_hdn = hdn_df.set_index(['Gaus','Pois','Ch'])"
   ]
  },
  {
   "cell_type": "code",
   "execution_count": null,
   "metadata": {},
   "outputs": [],
   "source": [
    "df = pd.merge(df_denoisplit, df_hdn, left_index=True, right_index=True, suffixes=('_denoisplit', '_hdn'))\n",
    "df = df.reset_index()\n",
    "df.Ch = df.Ch.map(lambda x: x.replace('GT_all.mrc','').replace('/',''))\n",
    "\n",
    "df.head()"
   ]
  },
  {
   "cell_type": "code",
   "execution_count": null,
   "metadata": {},
   "outputs": [],
   "source": [
    "df[df.Ch=='ER'].sort_values('Gaus')[['Gaus', 'PSNR_denoisplit', 'PSNR_hdn']]"
   ]
  },
  {
   "cell_type": "code",
   "execution_count": null,
   "metadata": {},
   "outputs": [],
   "source": [
    "df[df.Ch=='ER'][df.Gaus.isin([3400, 5100, 6800, 13600])][['PSNR_denoisplit', 'PSNR_hdn']].plot()"
   ]
  },
  {
   "cell_type": "code",
   "execution_count": null,
   "metadata": {},
   "outputs": [],
   "source": [
    "df[df.Ch=='ER/GT_all.mrc'][df.Gaus.isin([4450, 6675,8900,17800])][['PSNR_denoisplit', 'PSNR_hdn']].plot()"
   ]
  },
  {
   "cell_type": "code",
   "execution_count": null,
   "metadata": {},
   "outputs": [],
   "source": [
    "df[df.Ch=='Microtubules'].sort_values('Gaus')[['Gaus', 'PSNR_denoisplit', 'PSNR_hdn']]"
   ]
  },
  {
   "cell_type": "code",
   "execution_count": null,
   "metadata": {},
   "outputs": [],
   "source": [
    "df[df.Ch=='Microtubules'][df.Gaus.isin([4450, 6675,8900,17800])][['PSNR_denoisplit', 'PSNR_hdn']].plot()"
   ]
  },
  {
   "cell_type": "code",
   "execution_count": null,
   "metadata": {},
   "outputs": [],
   "source": [
    "df[df.Ch=='Microtubules'][df.Gaus.isin([3150, 4725,6300,12600])][['PSNR_denoisplit', 'PSNR_hdn']].plot()"
   ]
  },
  {
   "cell_type": "code",
   "execution_count": null,
   "metadata": {},
   "outputs": [],
   "source": [
    "df[df.Ch=='CCPs'].sort_values('Gaus')[['Gaus', 'PSNR_denoisplit', 'PSNR_hdn']]"
   ]
  },
  {
   "cell_type": "code",
   "execution_count": null,
   "metadata": {},
   "outputs": [],
   "source": [
    "df[df.Ch=='CCPs'][df.Gaus.isin([3150, 4725,6300,12600])][['PSNR_denoisplit', 'PSNR_hdn']].plot()"
   ]
  },
  {
   "cell_type": "code",
   "execution_count": null,
   "metadata": {},
   "outputs": [],
   "source": [
    "df[df.Ch=='CCPs'][df.Gaus.isin([3400, 5100, 6800, 13600])][['PSNR_denoisplit', 'PSNR_hdn']].plot(linestyle='-', marker='o')"
   ]
  },
  {
   "cell_type": "code",
   "execution_count": null,
   "metadata": {},
   "outputs": [],
   "source": [
    "df[df.Ch == 'ER']"
   ]
  },
  {
   "cell_type": "code",
   "execution_count": null,
   "metadata": {},
   "outputs": [],
   "source": [
    "import matplotlib.pyplot as plt\n",
    "params = {'mathtext.default': 'regular' }          \n",
    "plt.rcParams.update(params)\n",
    "\n",
    "_,ax = plt.subplots(figsize=(12,3),ncols=3)\n",
    "# ER\n",
    "df[df.Ch == 'ER'].sort_values('Gaus').plot(x='Gaus', y='PSNR_hdn', ax=ax[0], linestyle='-', marker='*', label='HDN')\n",
    "df[df.Ch=='ER'][df.Gaus.isin([4450, 6675,8900,17800])].plot(x='Gaus', y='PSNR_denoisplit', ax=ax[0], linestyle='-', marker='^', label='ER vs MT')\n",
    "df[df.Ch=='ER'][df.Gaus.isin([3400, 5100,6800,13600])].plot(x='Gaus', y='PSNR_denoisplit', ax=ax[0], linestyle='-', marker='^', label='CCPs vs ER')\n",
    "\n",
    "# Microtubules\n",
    "df[df.Ch == 'Microtubules'].sort_values('Gaus').plot(x='Gaus', y='PSNR_hdn', ax=ax[1], linestyle='-', marker='*', label='HDN')\n",
    "df[df.Ch=='Microtubules'][df.Gaus.isin([4450, 6675,8900,17800])].plot(x='Gaus', y='PSNR_denoisplit', ax=ax[1], linestyle='-', marker='^', label='ER vs MT')\n",
    "df[df.Ch=='Microtubules'][df.Gaus.isin([3150, 4725,6300,12600])].plot(x='Gaus', y='PSNR_denoisplit', ax=ax[1], linestyle='-', marker='^', label='CCPs vs MT')\n",
    "\n",
    "# CCPs\n",
    "df[df.Ch == 'CCPs'].sort_values('Gaus').plot(x='Gaus', y='PSNR_hdn', ax=ax[2], linestyle='-', marker='*', label='HDN')\n",
    "df[df.Ch=='CCPs'][df.Gaus.isin([3150, 4725,6300,12600])].plot(x='Gaus', y='PSNR_denoisplit', ax=ax[2], linestyle='-', marker='^', label='CCPs vs MT')\n",
    "df[df.Ch=='CCPs'][df.Gaus.isin([3400, 5100,6800,13600])].plot(x='Gaus', y='PSNR_denoisplit', ax=ax[2], linestyle='-', marker='^', label='CCPs vs ER')\n",
    "ax[2].legend(loc='upper right')\n",
    "\n",
    "ax[0].set_xlabel(f'$Gaussian\\ \\sigma$')\n",
    "ax[1].set_xlabel(f'$Gaussian\\ \\sigma$')\n",
    "ax[2].set_xlabel(f'$Gaussian\\ \\sigma$')\n",
    "ax[0].set_ylabel(f'PSNR')\n",
    "\n",
    "ax[0].set_ylim(24,44.7)\n",
    "ax[1].set_ylim(24,44.7)\n",
    "ax[2].set_ylim(24,44.7)\n",
    "\n",
    "# ax[0].set_xlim(3000, 18000)\n",
    "# ax[1].set_xlim(3000, 18000)\n",
    "# ax[2].set_xlim(3000, 18000)\n",
    "\n",
    "ax[1].set_yticklabels([])\n",
    "ax[2].set_yticklabels([])\n",
    "\n",
    "ax[0].set_title('ER')\n",
    "ax[1].set_title('Microtubules')\n",
    "ax[2].set_title('CCPs')\n",
    "\n",
    "ax[0].yaxis.grid(color='gray', linestyle='dashed')\n",
    "ax[0].xaxis.grid(color='gray', linestyle='dashed')\n",
    "ax[0].set_facecolor('xkcd:light grey')\n",
    "\n",
    "ax[1].yaxis.grid(color='gray', linestyle='dashed')\n",
    "ax[1].xaxis.grid(color='gray', linestyle='dashed')\n",
    "ax[1].set_facecolor('xkcd:light grey')\n",
    "\n",
    "ax[2].yaxis.grid(color='gray', linestyle='dashed')\n",
    "ax[2].xaxis.grid(color='gray', linestyle='dashed')\n",
    "ax[2].set_facecolor('xkcd:light grey')\n",
    "paper_figures_dir = '/group/jug/ashesh/data/paper_figures'\n",
    "fpath = os.path.join(paper_figures_dir, 'hdn_denoisplit_comparison.png')\n",
    "plt.savefig(fpath, dpi=200, bbox_inches='tight')\n",
    "print('Saved to:', fpath)\n"
   ]
  },
  {
   "cell_type": "code",
   "execution_count": null,
   "metadata": {},
   "outputs": [],
   "source": []
  }
 ],
 "metadata": {
  "kernelspec": {
   "display_name": "Python 3",
   "language": "python",
   "name": "python3"
  },
  "language_info": {
   "codemirror_mode": {
    "name": "ipython",
    "version": 3
   },
   "file_extension": ".py",
   "mimetype": "text/x-python",
   "name": "python",
   "nbconvert_exporter": "python",
   "pygments_lexer": "ipython3",
   "version": "3.9.18"
  }
 },
 "nbformat": 4,
 "nbformat_minor": 2
}
