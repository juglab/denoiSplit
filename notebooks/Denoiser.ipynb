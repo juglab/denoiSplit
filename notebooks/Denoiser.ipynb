{
 "cells": [
  {
   "cell_type": "code",
   "execution_count": null,
   "id": "19844352",
   "metadata": {},
   "outputs": [],
   "source": [
    "from IPython.display import display, HTML\n",
    "display(HTML(\"<style>.container { width:100% !important; }</style>\"))"
   ]
  },
  {
   "cell_type": "code",
   "execution_count": null,
   "id": "ad91cc2b",
   "metadata": {},
   "outputs": [],
   "source": [
    "import os\n",
    "# os.environ[\"CUDA_DEVICE_ORDER\"]=\"PCI_BUS_ID\"   # see issue #152\n",
    "# os.environ[\"CUDA_VISIBLE_DEVICES\"]=\"2\"\n"
   ]
  },
  {
   "cell_type": "code",
   "execution_count": null,
   "id": "8263ed32",
   "metadata": {},
   "outputs": [],
   "source": [
    "# from denoisplit.core.tiff_reader import load_tiff\n",
    "# fname = '/group/jug/ashesh/data/paper_stats/All_P128_G64_M50_Sk44/pred_disentangle_2402_D16-M23-S0-L0_31.tif'\n",
    "# data = load_tiff(fname)"
   ]
  },
  {
   "cell_type": "code",
   "execution_count": null,
   "id": "dcd3d0c2",
   "metadata": {},
   "outputs": [],
   "source": [
    "# there are two environments(debug and prod). From where you want to fetch the code and data? \n",
    "DEBUG=False"
   ]
  },
  {
   "cell_type": "code",
   "execution_count": null,
   "id": "27ec4422",
   "metadata": {},
   "outputs": [],
   "source": [
    "%run ./nb_core/root_dirs.ipynb\n",
    "setup_syspath_disentangle(DEBUG)\n",
    "%run ./nb_core/disentangle_imports.ipynb"
   ]
  },
  {
   "cell_type": "code",
   "execution_count": null,
   "id": "96db1d21",
   "metadata": {},
   "outputs": [],
   "source": [
    "# from denoisplit.core.tiff_reader import load_tiff\n",
    "# import matplotlib.pyplot as plt\n",
    "# # data = load_tiff('/group/jug/ashesh/data/paper_stats/All_P128_G64_M50_Sk44/pred_disentangle_2402_D16-M23-S0-L0_88.tif')\n",
    "# # plt.imshow(data[0,...,0])"
   ]
  },
  {
   "cell_type": "code",
   "execution_count": null,
   "id": "5a9748a9",
   "metadata": {},
   "outputs": [],
   "source": [
    "ckpt_dir = \"/home/ashesh.ashesh/training/disentangle/2403/D7-M23-S0-L0/32\"\n",
    "# 211/D3-M3-S0-L0/0\n",
    "# 2210/D3-M3-S0-L0/128\n",
    "# 2210/D3-M3-S0-L0/129"
   ]
  },
  {
   "cell_type": "code",
   "execution_count": null,
   "id": "27410ddc",
   "metadata": {},
   "outputs": [],
   "source": [
    "# !ls /home/ubuntu/ashesh/training/disentangle/2209/D3-M9-S0-L0/1"
   ]
  },
  {
   "cell_type": "code",
   "execution_count": null,
   "id": "d7232e05",
   "metadata": {},
   "outputs": [],
   "source": [
    "dtype = int(ckpt_dir.strip('/').split('/')[-2].split('-')[0][1:])"
   ]
  },
  {
   "cell_type": "code",
   "execution_count": null,
   "id": "90109e80",
   "metadata": {},
   "outputs": [],
   "source": [
    "dtype"
   ]
  },
  {
   "cell_type": "code",
   "execution_count": null,
   "id": "0b237569",
   "metadata": {
    "slideshow": {
     "slide_type": "skip"
    }
   },
   "outputs": [],
   "source": [
    "import json\n",
    "if DEBUG:\n",
    "    if dtype == DataType.CustomSinosoid:\n",
    "        data_dir = f'{DATA_ROOT}/sinosoid/'\n",
    "    elif dtype == DataType.OptiMEM100_014:\n",
    "        data_dir = f'{DATA_ROOT}/microscopy/'\n",
    "else:\n",
    "    if dtype in [DataType.CustomSinosoid, DataType.CustomSinosoidThreeCurve]:\n",
    "        data_dir = f'{DATA_ROOT}/sinosoid_without_test/sinosoid/'\n",
    "    elif dtype == DataType.OptiMEM100_014:\n",
    "        data_dir = f'{DATA_ROOT}/microscopy/'\n",
    "    elif dtype == DataType.Prevedel_EMBL:\n",
    "        data_dir = f'{DATA_ROOT}/Prevedel_EMBL/PKG_3P_dualcolor_stacks/NoAverage_NoRegistration/'\n",
    "    elif dtype == DataType.AllenCellMito:\n",
    "        data_dir = f'{DATA_ROOT}/allencell/2017_03_08_Struct_First_Pass_Seg/AICS-11/'\n",
    "    elif dtype == DataType.SeparateTiffData:\n",
    "        data_dir = f'{DATA_ROOT}/ventura_gigascience'\n",
    "    elif dtype == DataType.SemiSupBloodVesselsEMBL:\n",
    "        data_dir = f'{DATA_ROOT}/EMBL_halfsupervised/Demixing_3P'\n",
    "    elif dtype == DataType.Pavia2VanillaSplitting:\n",
    "        data_dir = f'{DATA_ROOT}/pavia2'\n",
    "    elif dtype == DataType.ExpansionMicroscopyMitoTub:\n",
    "        data_dir = f'{DATA_ROOT}/expansion_microscopy_Nick/'\n",
    "    elif dtype == DataType.ShroffMitoEr:\n",
    "        data_dir = f'{DATA_ROOT}/shrofflab/'\n",
    "    elif dtype == DataType.HTIba1Ki67:\n",
    "        data_dir = f'{DATA_ROOT}/Stefania/20230327_Ki67_and_Iba1_trainingdata/'\n",
    "    elif dtype == DataType.BioSR_MRC:\n",
    "        data_dir = f'{DATA_ROOT}/BioSR/'\n",
    "        \n",
    "#     2720*2720: microscopy dataset.\n",
    "\n",
    "image_size_for_grid_centers = 32\n",
    "mmse_count = 2\n",
    "custom_image_size = 128\n",
    "denoise_channel = None\n",
    "save_output = False\n",
    "save_output_dir = f'/group/jug/ashesh/data/denoiser_output/{os.path.basename(data_dir)}'\n",
    "\n",
    "batch_size = 8\n",
    "num_workers = 1\n",
    "COMPUTE_LOSS = False\n",
    "use_deterministic_grid = None\n",
    "threshold = None # 0.02\n",
    "compute_kl_loss = False\n",
    "evaluate_train = False# inspect training performance\n",
    "eval_datasplit_type = DataSplitType.Test\n",
    "val_repeat_factor = None\n",
    "psnr_type = 'range_invariant' #'simple', 'range_invariant'\n",
    "\n",
    "if save_output:\n",
    "    assert eval_datasplit_type == DataSplitType.All\n",
    "    assert save_output_dir is not None\n",
    "    assert os.path.exists(save_output_dir), f\"{save_output_dir} does not exist\"\n",
    "    with open(f'{save_output_dir}/config.json', 'w') as f:\n",
    "        json.dump({'ckpt_dir': ckpt_dir, \n",
    "                   'data_dir': data_dir, \n",
    "                   'image_size_for_grid_centers': image_size_for_grid_centers, \n",
    "                   'mmse_count': mmse_count, \n",
    "                   'custom_image_size': custom_image_size, \n",
    "                   'denoise_channel': denoise_channel, \n",
    "                   'use_deterministic_grid': use_deterministic_grid, \n",
    "                   'threshold': threshold, \n",
    "                  'eval_datasplit_type': eval_datasplit_type, \n",
    "                  'val_repeat_factor': val_repeat_factor}, f)"
   ]
  },
  {
   "cell_type": "code",
   "execution_count": null,
   "id": "f889dd2d",
   "metadata": {},
   "outputs": [],
   "source": [
    "%run ./nb_core/config_loader.ipynb"
   ]
  },
  {
   "cell_type": "code",
   "execution_count": null,
   "id": "2a0047fe",
   "metadata": {},
   "outputs": [],
   "source": [
    "# config.model.decoder"
   ]
  },
  {
   "cell_type": "code",
   "execution_count": null,
   "id": "bc8a3fed",
   "metadata": {},
   "outputs": [],
   "source": [
    "from denoisplit.core.sampler_type import SamplerType\n",
    "from denoisplit.core.loss_type import LossType\n",
    "from denoisplit.data_loader.ht_iba1_ki67_rawdata_loader import SubDsetType\n",
    "# from denoisplit.core.lowres_merge_type import LowresMergeType\n",
    "\n",
    "\n",
    "with config.unlocked():\n",
    "    if denoise_channel is not None:\n",
    "        config.model.denoise_channel = denoise_channel\n",
    "        \n",
    "    config.model.skip_nboundary_pixels_from_loss = None\n",
    "    if config.model.model_type == ModelType.UNet and 'n_levels' not in config.model:\n",
    "        config.model.n_levels = 4\n",
    "    if config.data.sampler_type == SamplerType.NeighborSampler:\n",
    "        config.data.sampler_type = SamplerType.DefaultSampler\n",
    "        config.loss.loss_type = LossType.Elbo\n",
    "        config.data.grid_size = config.data.image_size\n",
    "    if 'ch1_fpath_list' in config.data:\n",
    "        config.data.ch1_fpath_list = config.data.ch1_fpath_list[:1]\n",
    "        config.data.mix_fpath_list = config.data.mix_fpath_list[:1]\n",
    "    if config.data.data_type == DataType.Pavia2VanillaSplitting:\n",
    "        if 'channel_2_downscale_factor' not in config.data:\n",
    "            config.data.channel_2_downscale_factor = 1\n",
    "    if config.model.model_type == ModelType.UNet and 'init_channel_count' not in config.model:\n",
    "        config.model.init_channel_count = 64\n",
    "    \n",
    "    if 'skip_receptive_field_loss_tokens' not in config.loss:\n",
    "        config.loss.skip_receptive_field_loss_tokens = []\n",
    "    \n",
    "    if dtype == DataType.HTIba1Ki67:\n",
    "        config.data.subdset_type = SubDsetType.Iba1Ki64\n",
    "        config.data.empty_patch_replacement_enabled = False\n",
    "    \n",
    "    if 'lowres_merge_type' not in config.model.encoder:\n",
    "        config.model.encoder.lowres_merge_type = 0"
   ]
  },
  {
   "cell_type": "code",
   "execution_count": null,
   "id": "e561d018",
   "metadata": {},
   "outputs": [],
   "source": [
    "if denoise_channel is None:\n",
    "    denoise_channel = config.model.denoise_channel \n",
    "    print(f\"denoise_channel: {denoise_channel}\")\n"
   ]
  },
  {
   "cell_type": "code",
   "execution_count": null,
   "id": "edde2155",
   "metadata": {},
   "outputs": [],
   "source": [
    "%run ./nb_core/disentangle_setup.ipynb"
   ]
  },
  {
   "cell_type": "code",
   "execution_count": null,
   "id": "53df96f2",
   "metadata": {},
   "outputs": [],
   "source": [
    "len(train_dset)"
   ]
  },
  {
   "cell_type": "code",
   "execution_count": null,
   "id": "60d5fc4a",
   "metadata": {},
   "outputs": [],
   "source": [
    "if config.data.multiscale_lowres_count is not None and custom_image_size is not None:\n",
    "    model.reset_for_different_output_size(custom_image_size)"
   ]
  },
  {
   "cell_type": "code",
   "execution_count": null,
   "id": "11cf6c69",
   "metadata": {},
   "outputs": [],
   "source": [
    "# if config.model.model_type not in [ModelType.UNet, ModelType.BraveNet]:\n",
    "#     with torch.no_grad():\n",
    "#         inp, tar = val_dset[0][:2]\n",
    "#         out, td_data = model(torch.Tensor(inp[None]).cuda())\n",
    "#         print(td_data['z'][-1].shape)\n",
    "#         print(out.shape)"
   ]
  },
  {
   "cell_type": "code",
   "execution_count": null,
   "id": "d05be428",
   "metadata": {},
   "outputs": [],
   "source": [
    "idx = np.random.randint(len(val_dset))\n",
    "inp_tmp, tar_tmp, *_ = val_dset[idx]\n",
    "ncols = max(len(inp_tmp),3)\n",
    "nrows = 2\n",
    "_,ax = plt.subplots(figsize=(4*ncols,4*nrows),ncols=ncols,nrows=nrows)\n",
    "for i in range(len(inp_tmp)):\n",
    "    ax[0,i].imshow(inp_tmp[i])\n",
    "\n",
    "ax[1,0].imshow(tar_tmp[0]+tar_tmp[1])\n",
    "ax[1,1].imshow(tar_tmp[0])\n",
    "ax[1,2].imshow(tar_tmp[1])\n"
   ]
  },
  {
   "cell_type": "code",
   "execution_count": null,
   "id": "cac092b5",
   "metadata": {},
   "outputs": [],
   "source": [
    "from denoisplit.analysis.stitch_prediction import stitch_predictions\n",
    "from denoisplit.analysis.mmse_prediction import get_dset_predictions\n",
    "# from denoisplit.analysis.stitch_prediction import get_predictions as get_dset_predictions\n",
    "\n",
    "pred_tiled, rec_loss, logvar, patch_psnr_tuple, pred_std_tiled = get_dset_predictions(model, val_dset,batch_size,\n",
    "                                               num_workers=num_workers,\n",
    "                                               mmse_count=mmse_count,\n",
    "                                                model_type = config.model.model_type,\n",
    "                                              )\n",
    "assert patch_psnr_tuple[1] is None\n",
    "print('Patch wise PSNR, as computed during training', np.round(patch_psnr_tuple[0].item(),2))"
   ]
  },
  {
   "cell_type": "code",
   "execution_count": null,
   "id": "535169c1",
   "metadata": {},
   "outputs": [],
   "source": [
    "pred_tiled.shape"
   ]
  },
  {
   "cell_type": "code",
   "execution_count": null,
   "id": "2b693a0c",
   "metadata": {},
   "outputs": [],
   "source": [
    "idx_list = np.where(logvar.squeeze() < -6)[0]\n",
    "if len(idx_list) > 0:\n",
    "    plt.imshow(val_dset[idx_list[0]][1][1])"
   ]
  },
  {
   "cell_type": "code",
   "execution_count": null,
   "id": "8a1573f8",
   "metadata": {},
   "outputs": [],
   "source": [
    "len(val_dset)"
   ]
  },
  {
   "cell_type": "code",
   "execution_count": null,
   "id": "f74f286c",
   "metadata": {},
   "outputs": [],
   "source": [
    "plt.imshow((val_dset._data[0,...,1] + val_dset._data[0,...,0])/2)"
   ]
  },
  {
   "cell_type": "code",
   "execution_count": null,
   "id": "6709de9e",
   "metadata": {},
   "outputs": [],
   "source": [
    "import seaborn as sns\n",
    "sns.histplot(logvar[::50].squeeze().reshape(-1,))"
   ]
  },
  {
   "cell_type": "code",
   "execution_count": null,
   "id": "771ac350",
   "metadata": {},
   "outputs": [],
   "source": [
    "print(np.quantile(rec_loss, [0,0.01,0.5, 0.9,0.99,0.999,1]).round(2))"
   ]
  },
  {
   "cell_type": "code",
   "execution_count": null,
   "id": "05f2cdc7",
   "metadata": {},
   "outputs": [],
   "source": [
    "pred_tiled.shape"
   ]
  },
  {
   "cell_type": "code",
   "execution_count": null,
   "id": "8673355b",
   "metadata": {},
   "outputs": [],
   "source": [
    "len(val_dset)"
   ]
  },
  {
   "cell_type": "code",
   "execution_count": null,
   "id": "c75b35f1",
   "metadata": {},
   "outputs": [],
   "source": [
    "if pred_tiled.shape[-1] != val_dset.get_img_sz():\n",
    "    pad = (val_dset.get_img_sz() - pred_tiled.shape[-1] )//2\n",
    "    pred_tiled = np.pad(pred_tiled, ((0,0),(0,0),(pad,pad),(pad,pad)))\n",
    "\n",
    "pred = stitch_predictions(pred_tiled,val_dset, smoothening_pixelcount=0)"
   ]
  },
  {
   "cell_type": "code",
   "execution_count": null,
   "id": "f950003b",
   "metadata": {},
   "outputs": [],
   "source": [
    "if pred.shape[-1] != pred_tiled.shape[1]:\n",
    "    assert pred.shape[-1] == 1 + pred_tiled.shape[1]\n",
    "    assert pred[...,-1].std() == 0\n",
    "    pred = pred[...,:-1].copy()\n",
    "    # pred_std = pred_std[...,:-1].copy()\n",
    "    if logvar is not None:\n",
    "        logvar = logvar[...,:-1].copy()"
   ]
  },
  {
   "cell_type": "code",
   "execution_count": null,
   "id": "b09091e3",
   "metadata": {},
   "outputs": [],
   "source": [
    "pred.shape"
   ]
  },
  {
   "cell_type": "code",
   "execution_count": null,
   "id": "dba3753f",
   "metadata": {},
   "outputs": [],
   "source": [
    "pred[np.isnan(pred)] = 0"
   ]
  },
  {
   "cell_type": "code",
   "execution_count": null,
   "id": "0d2ad25d",
   "metadata": {},
   "outputs": [],
   "source": [
    "def print_ignored_pixels():\n",
    "    ignored_pixels = 1\n",
    "    while(pred[:10,-ignored_pixels:,-ignored_pixels:,].std() ==0):\n",
    "        ignored_pixels+=1\n",
    "    ignored_pixels-=1\n",
    "    print(f'In {pred.shape}, last {ignored_pixels} many rows and columns are all zero.')\n",
    "    return ignored_pixels\n",
    "\n",
    "actual_ignored_pixels = print_ignored_pixels()"
   ]
  },
  {
   "cell_type": "markdown",
   "id": "b8474735",
   "metadata": {},
   "source": [
    "## Ignore the pixels which are present in the last few rows and columns. \n",
    "1. They don't come in the batches. So, in prediction, they are simply zeros. So they are being are ignored right now. \n",
    "2. For the border pixels which are on the top and the left, overlapping yields worse performance. This is becuase, there is nothing to overlap on one side. So, they are essentially zero padded. This makes the performance worse. "
   ]
  },
  {
   "cell_type": "code",
   "execution_count": null,
   "id": "fcb2db09",
   "metadata": {},
   "outputs": [],
   "source": [
    "actual_ignored_pixels"
   ]
  },
  {
   "cell_type": "code",
   "execution_count": null,
   "id": "cadedfcd",
   "metadata": {},
   "outputs": [],
   "source": [
    "if config.data.data_type in [DataType.OptiMEM100_014,\n",
    "                                                      DataType.SemiSupBloodVesselsEMBL, \n",
    "                                                      DataType.Pavia2VanillaSplitting,\n",
    "                                                      DataType.ExpansionMicroscopyMitoTub,\n",
    "                                                      DataType.ShroffMitoEr,\n",
    "                                                      DataType.HTIba1Ki67]:\n",
    "    ignored_last_pixels = 32 \n",
    "elif config.data.data_type == DataType.BioSR_MRC:\n",
    "    ignored_last_pixels = 44\n",
    "    # assert val_dset.get_img_sz() == 64\n",
    "else:\n",
    "    ignored_last_pixels = 0\n",
    "\n",
    "ignore_first_pixels = 0\n",
    "\n",
    "assert actual_ignored_pixels <= ignored_last_pixels, f'Set ignored_last_pixels={actual_ignored_pixels}'\n",
    "print(ignored_last_pixels)"
   ]
  },
  {
   "cell_type": "code",
   "execution_count": null,
   "id": "226fed05",
   "metadata": {},
   "outputs": [],
   "source": [
    "if model.denoise_channel == 'Ch1':\n",
    "    tar = val_dset._data[...,:1]\n",
    "elif model.denoise_channel == 'Ch2':\n",
    "    tar = val_dset._data[...,1:]\n",
    "elif model.denoise_channel == 'input':\n",
    "    tar = np.mean(val_dset._data, axis=-1, keepdims=True)\n",
    "    \n",
    "\n",
    "def ignore_pixels(arr):\n",
    "    if ignore_first_pixels:\n",
    "        arr = arr[:,ignore_first_pixels:,ignore_first_pixels:]\n",
    "    if ignored_last_pixels:\n",
    "        arr = arr[:,:-ignored_last_pixels,:-ignored_last_pixels]\n",
    "    return arr\n",
    "\n",
    "pred = ignore_pixels(pred)\n",
    "tar = ignore_pixels(tar)\n"
   ]
  },
  {
   "cell_type": "code",
   "execution_count": null,
   "id": "5d8b680f",
   "metadata": {},
   "outputs": [],
   "source": [
    "from skimage.metrics import structural_similarity\n",
    "\n",
    "def _avg_psnr(target, prediction, psnr_fn):\n",
    "    output = np.mean([psnr_fn(target[i:i + 1], prediction[i:i + 1]).item() for i in range(len(prediction))])\n",
    "    return round(output, 2)\n",
    "\n",
    "\n",
    "def avg_range_inv_psnr(target, prediction):\n",
    "    return _avg_psnr(target, prediction, RangeInvariantPsnr)\n",
    "\n",
    "\n",
    "def avg_psnr(target, prediction):\n",
    "    return _avg_psnr(target, prediction, PSNR)\n",
    "\n",
    "\n",
    "def compute_masked_psnr(mask, tar1, tar2, pred1, pred2):\n",
    "    mask = mask.astype(bool)\n",
    "    mask = mask[..., 0]\n",
    "    tmp_tar1 = tar1[mask].reshape((len(tar1), -1, 1))\n",
    "    tmp_pred1 = pred1[mask].reshape((len(tar1), -1, 1))\n",
    "    tmp_tar2 = tar2[mask].reshape((len(tar2), -1, 1))\n",
    "    tmp_pred2 = pred2[mask].reshape((len(tar2), -1, 1))\n",
    "    psnr1 = avg_range_inv_psnr(tmp_tar1, tmp_pred1)\n",
    "    psnr2 = avg_range_inv_psnr(tmp_tar2, tmp_pred2)\n",
    "    return psnr1, psnr2\n",
    "\n",
    "def avg_ssim(target, prediction):\n",
    "    ssim = [structural_similarity(target[i],prediction[i], data_range=(target[i].max() - target[i].min())) for i in range(len(target))]\n",
    "    return np.mean(ssim),np.std(ssim)"
   ]
  },
  {
   "cell_type": "code",
   "execution_count": null,
   "id": "7311e08a",
   "metadata": {},
   "outputs": [],
   "source": [
    "sep_mean, sep_std = model.data_mean, model.data_std\n",
    "if isinstance(sep_mean, dict):\n",
    "    sep_mean = sep_mean['target']\n",
    "    sep_std = sep_std['target']\n",
    "\n",
    "if isinstance(sep_mean, int):\n",
    "    pass\n",
    "else:\n",
    "    sep_mean = sep_mean.squeeze()[None,None,None]\n",
    "    sep_std = sep_std.squeeze()[None,None,None]\n",
    "    sep_mean = sep_mean.cpu().numpy() \n",
    "    sep_std = sep_std.cpu().numpy()\n",
    "\n",
    "tar_normalized = (tar - sep_mean)/ sep_std"
   ]
  },
  {
   "cell_type": "code",
   "execution_count": null,
   "id": "b2402048",
   "metadata": {},
   "outputs": [],
   "source": [
    "q_vals = [0.01, 0.1,0.5,0.9,0.95, 0.99,1]\n",
    "print(np.quantile(tar_normalized[...,0], q_vals).round(2))"
   ]
  },
  {
   "cell_type": "code",
   "execution_count": null,
   "id": "6c445e50",
   "metadata": {},
   "outputs": [],
   "source": [
    "print(np.quantile(tar[...,0], q_vals))\n"
   ]
  },
  {
   "cell_type": "code",
   "execution_count": null,
   "id": "7fef4512",
   "metadata": {},
   "outputs": [],
   "source": [
    "_,ax = plt.subplots(figsize=(6,6))\n",
    "# sns.histplot(tar[:,...,0].reshape(-1,), color='g', label='Nuc')\n",
    "# sns.histplot(tar[:,...,1].reshape(-1,), color='r', label='Tub')\n",
    "\n",
    "sns.histplot(tar[:,::10,::10,0].reshape(-1,), color='g', kde=True)"
   ]
  },
  {
   "cell_type": "code",
   "execution_count": null,
   "id": "cb572707",
   "metadata": {},
   "outputs": [],
   "source": [
    "# from denoisplit.data_loader.schroff_rawdata_loader import mito_channel_fnames\n",
    "# from denoisplit.core.tiff_reader import load_tiff\n",
    "# import seaborn as sns\n",
    "\n",
    "# fpaths = [os.path.join(datapath, x) for x in mito_channel_fnames()]\n",
    "# fpath = fpaths[0]\n",
    "# print(fpath)\n",
    "# img = load_tiff(fpaths[0])\n",
    "# temp = img.copy()\n",
    "# sns.histplot(temp[:,:,::10,::10].reshape(-1,))\n",
    "# plt.hist(temp[:,:,::10,::10].reshape(-1,),bins=100)"
   ]
  },
  {
   "cell_type": "code",
   "execution_count": null,
   "id": "24708c4c",
   "metadata": {},
   "outputs": [],
   "source": [
    "import matplotlib.patches as patches\n",
    "import matplotlib\n",
    "from denoisplit.analysis.plot_error_utils import plot_error\n",
    "\n",
    "_,ax = plt.subplots(figsize=(12,8),ncols=3,nrows=2)\n",
    "idx = np.random.randint(len(pred))\n",
    "print(idx)\n",
    "ax[0,0].imshow(tar_normalized[idx,...,0], cmap='magma')\n",
    "ax[0,1].imshow(pred[idx,:,:,0], cmap='magma')\n",
    "plot_error(tar_normalized[idx,...,0], \n",
    "           pred[idx,:,:,0], \n",
    "           cmap = matplotlib.cm.coolwarm, \n",
    "           ax = ax[0,2], max_val = None)\n",
    "\n",
    "cropsz = 512\n",
    "h_s = np.random.randint(0, tar_normalized.shape[1] - cropsz)\n",
    "h_e = h_s + cropsz\n",
    "w_s = np.random.randint(0, tar_normalized.shape[2] - cropsz)\n",
    "w_e = w_s + cropsz\n",
    "\n",
    "ax[1,0].imshow(tar_normalized[idx,h_s:h_e,w_s:w_e,0], cmap='magma')\n",
    "ax[1,1].imshow(pred[idx,h_s:h_e,w_s:w_e,0], cmap='magma')\n",
    "plot_error(tar_normalized[idx,h_s:h_e,w_s:w_e,0], \n",
    "           pred[idx,h_s:h_e,w_s:w_e,0], \n",
    "           cmap = matplotlib.cm.coolwarm, \n",
    "           ax = ax[1,2], max_val = None)\n",
    "\n",
    "\n",
    "\n",
    "clean_ax(ax[0,3:])\n",
    "\n",
    "# Add rectangle to the region\n",
    "rect = patches.Rectangle((w_s, h_s), w_e-w_s, h_e-h_s, linewidth=1, edgecolor='r', facecolor='none')\n",
    "ax[0,2].add_patch(rect)\n",
    "# plt.colorbar()\n",
    "pred.shape"
   ]
  },
  {
   "cell_type": "code",
   "execution_count": null,
   "id": "919db5ef",
   "metadata": {},
   "outputs": [],
   "source": [
    "# ch1_pred_unnorm = pred[...,0]*sep_std[...,0].cpu().numpy() + sep_mean[...,0].cpu().numpy()\n",
    "# ch2_pred_unnorm = pred[...,1]*sep_std[...,1].cpu().numpy() + sep_mean[...,1].cpu().numpy()\n",
    "pred_unnorm = pred*sep_std + sep_mean"
   ]
  },
  {
   "cell_type": "code",
   "execution_count": null,
   "id": "ba97879b",
   "metadata": {},
   "outputs": [],
   "source": [
    "np.sqrt(((pred[...,:1] - tar_normalized)**2).reshape(len(pred),-1).mean(axis=1)).mean()"
   ]
  },
  {
   "cell_type": "code",
   "execution_count": null,
   "id": "87cd2195",
   "metadata": {},
   "outputs": [],
   "source": [
    "print(sep_mean.squeeze(), sep_std.squeeze(), pred.shape )"
   ]
  },
  {
   "cell_type": "code",
   "execution_count": null,
   "id": "a6cae730",
   "metadata": {},
   "outputs": [],
   "source": []
  },
  {
   "cell_type": "code",
   "execution_count": null,
   "id": "0380d737",
   "metadata": {},
   "outputs": [],
   "source": []
  },
  {
   "cell_type": "code",
   "execution_count": null,
   "id": "13fc1983",
   "metadata": {},
   "outputs": [],
   "source": [
    "assert pred.shape == tar_normalized.shape, f\"pred.shape: {pred.shape}, tar_normalized.shape: {tar_normalized.shape}\"\n",
    "rmse =np.sqrt(((pred - tar_normalized)**2).reshape(len(pred),-1).mean(axis=1))\n",
    "rmse = np.round(rmse,3)\n",
    "psnr = avg_psnr(tar_normalized[...,0].copy(), pred[...,0].copy()) \n",
    "rinv_psnr = avg_range_inv_psnr(tar_normalized[...,0].copy(), pred[...,0].copy())\n",
    "ssim_mean, ssim_std = avg_ssim(tar[...,0], pred_unnorm[...,0])"
   ]
  },
  {
   "cell_type": "code",
   "execution_count": null,
   "id": "e87868b7",
   "metadata": {},
   "outputs": [],
   "source": [
    "print(f'{DataSplitType.name(eval_datasplit_type)}_P{custom_image_size}_G{image_size_for_grid_centers}_M{mmse_count}_Sk{ignored_last_pixels}')\n",
    "print('Rec Loss',model.denoise_channel, np.round(rec_loss.mean(),3) )\n",
    "print('RMSE', model.denoise_channel, np.mean(rmse).round(3))\n",
    "print('PSNR',model.denoise_channel, psnr)\n",
    "print('RangeInvPSNR',model.denoise_channel, rinv_psnr)\n",
    "print('SSIM',model.denoise_channel, round(ssim_mean,3),'±',round(ssim_std,4))\n",
    "print()"
   ]
  },
  {
   "cell_type": "code",
   "execution_count": null,
   "id": "e3f83ed9",
   "metadata": {},
   "outputs": [],
   "source": [
    "from denoisplit.scripts.evaluate import * \n",
    "highres_data = None\n",
    "\n",
    "if config.model.model_type == ModelType.DenoiserSplitter or config.data.data_type == DataType.SeparateTiffData:\n",
    "    from denoisplit.scripts.evaluate import get_highres_data_ventura\n",
    "    highres_data = get_highres_data_ventura(data_dir, config, eval_datasplit_type)\n",
    "elif 'synthetic_gaussian_scale' in config.data or 'enable_poisson_noise' in config.data:\n",
    "    highres_data = get_data_without_synthetic_noise(data_dir, config, eval_datasplit_type)\n",
    "\n",
    "if highres_data is not None:\n",
    "    highres_data = ignore_pixels(highres_data).copy()\n"
   ]
  },
  {
   "cell_type": "code",
   "execution_count": null,
   "id": "59e53f64",
   "metadata": {},
   "outputs": [],
   "source": [
    "print(f'{DataSplitType.name(eval_datasplit_type)}_P{custom_image_size}_G{image_size_for_grid_centers}_M{mmse_count}_Sk{ignored_last_pixels}')\n",
    "print('PSNR on Highres', model.denoise_channel, avg_range_inv_psnr(highres_data[...,0], pred_unnorm[...,0]))\n",
    "ssim_hres_mean, ssim_hres_std = avg_ssim(highres_data[...,0], pred_unnorm[...,0])\n",
    "print('SSIM on Highres', model.denoise_channel, np.round(ssim_hres_mean,3), '±', np.round(ssim_hres_std,3))\n"
   ]
  },
  {
   "cell_type": "code",
   "execution_count": null,
   "id": "0cf9e03c",
   "metadata": {},
   "outputs": [],
   "source": [
    "_,ax = plt.subplots(figsize=(12,8),ncols=3,nrows=2)\n",
    "idx = np.random.randint(len(pred))\n",
    "print(idx)\n",
    "ax[0,0].imshow(tar_normalized[idx,...,0], cmap='magma')\n",
    "ax[0,1].imshow(highres_data[idx,...,0], cmap='magma')\n",
    "ax[0,2].imshow(pred_unnorm[idx,...,0], cmap='magma')\n",
    "cropsz = 512\n",
    "h_s = np.random.randint(0, tar_normalized.shape[1] - cropsz)\n",
    "h_e = h_s + cropsz\n",
    "w_s = np.random.randint(0, tar_normalized.shape[2] - cropsz)\n",
    "w_e = w_s + cropsz\n",
    "\n",
    "ax[1,0].imshow(tar_normalized[idx,h_s:h_e,w_s:w_e,0], cmap='magma')\n",
    "ax[1,1].imshow(highres_data[idx,h_s:h_e,w_s:w_e,0], cmap='magma')\n",
    "ax[1,2].imshow(pred_unnorm[idx,h_s:h_e,w_s:w_e,0], cmap='magma')\n",
    "# Add rectangle to the region\n",
    "rect = patches.Rectangle((w_s, h_s), w_e-w_s, h_e-h_s, linewidth=1, edgecolor='r', facecolor='none')\n",
    "ax[0,0].add_patch(rect)\n"
   ]
  },
  {
   "cell_type": "markdown",
   "id": "f19442f1",
   "metadata": {},
   "source": [
    "### To save to tiff file."
   ]
  },
  {
   "cell_type": "code",
   "execution_count": null,
   "id": "236b29f6",
   "metadata": {},
   "outputs": [],
   "source": [
    "def get_noise_str():\n",
    "    noise_str = ''\n",
    "    if 'synthetic_gaussian_scale' in config.data:\n",
    "        noise_str  = f'_N{config.data.synthetic_gaussian_scale}'\n",
    "    if 'poisson_noise_factor' in config.data and config.data.poisson_noise_factor is not None and config.data.poisson_noise_factor > 0:\n",
    "        noise_str += f'_P{config.data.poisson_noise_factor}'\n",
    "    \n",
    "    return noise_str\n",
    "\n",
    "def get_model_str():\n",
    "    tokens = ckpt_dir.split('/')\n",
    "    tokens.remove('')\n",
    "    return '-'.join([x.replace('-','') for x in tokens[-3:]])"
   ]
  },
  {
   "cell_type": "code",
   "execution_count": null,
   "id": "a6422675",
   "metadata": {},
   "outputs": [],
   "source": [
    "from denoisplit.core.tiff_reader import save_tiff\n",
    "from denoisplit.core.data_split_type import DataSplitType\n",
    "\n",
    "assert pred_unnorm[...,0].std() > pred_unnorm[...,1].std()\n",
    "denoised_pred = pred_unnorm[...,0].copy()\n",
    "denoised_pred[denoised_pred<0] = 0\n",
    "denoised_pred = denoised_pred.astype(np.uint16)\n",
    "if denoise_channel == 'Ch1':\n",
    "    fname = config.data.ch1_fname\n",
    "elif denoise_channel == 'Ch2':\n",
    "    fname = config.data.ch2_fname\n",
    "elif denoise_channel == 'input':\n",
    "    fname = 'input.tif'\n",
    "fname = f'{DataSplitType.name(eval_datasplit_type)}Data_{get_model_str()}{get_noise_str()}_{fname}'\n",
    "output_fpath = os.path.join(save_output_dir,fname)\n",
    "print(output_fpath)\n",
    "save_tiff(output_fpath, denoised_pred)\n"
   ]
  },
  {
   "cell_type": "code",
   "execution_count": null,
   "id": "7632071e",
   "metadata": {},
   "outputs": [],
   "source": [
    "!ls -lhrt \"$output_fpath\""
   ]
  },
  {
   "cell_type": "code",
   "execution_count": null,
   "id": "5acde8f1",
   "metadata": {},
   "outputs": [],
   "source": [
    "d = load_tiff(output_fpath)\n",
    "plt.imshow(d[0])"
   ]
  },
  {
   "cell_type": "code",
   "execution_count": null,
   "id": "80e6d844",
   "metadata": {},
   "outputs": [],
   "source": []
  }
 ],
 "metadata": {
  "kernelspec": {
   "display_name": "usplit",
   "language": "python",
   "name": "python3"
  },
  "language_info": {
   "codemirror_mode": {
    "name": "ipython",
    "version": 3
   },
   "file_extension": ".py",
   "mimetype": "text/x-python",
   "name": "python",
   "nbconvert_exporter": "python",
   "pygments_lexer": "ipython3",
   "version": "3.9.18"
  },
  "vscode": {
   "interpreter": {
    "hash": "e959a19f8af3b4149ff22eb57702a46c14a8caae5a2647a6be0b1f60abdfa4c2"
   }
  }
 },
 "nbformat": 4,
 "nbformat_minor": 5
}
