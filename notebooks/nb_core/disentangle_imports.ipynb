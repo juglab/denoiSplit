{
 "cells": [
  {
   "cell_type": "markdown",
   "id": "0457f6b5",
   "metadata": {},
   "source": [
    "## Pre-requisite\n",
    "You must run root_dirs.ipynb before running this "
   ]
  },
  {
   "cell_type": "code",
   "execution_count": null,
   "id": "20e84c5a",
   "metadata": {},
   "outputs": [],
   "source": [
    "import random\n",
    "\n",
    "import numpy as np\n",
    "import torch\n",
    "import pickle\n",
    "import ml_collections\n",
    "import glob\n",
    "import torch\n",
    "from torch.utils.data import DataLoader\n",
    "import torch.nn as nn\n",
    "\n",
    "from tqdm import tqdm\n",
    "import numpy as np\n",
    "from denoisplit.training import create_dataset, create_model\n",
    "import matplotlib.pyplot as plt\n",
    "from denoisplit.core.loss_type import LossType\n",
    "from denoisplit.config_utils import load_config\n",
    "from denoisplit.sampler.random_sampler import RandomSampler\n",
    "from denoisplit.analysis.lvae_utils import get_img_from_forward_output\n",
    "from denoisplit.analysis.plot_utils import clean_ax\n",
    "from denoisplit.core.data_type import DataType\n",
    "from denoisplit.core.psnr import PSNR\n",
    "from denoisplit.analysis.plot_utils import get_k_largest_indices,plot_imgs_from_idx\n",
    "from denoisplit.analysis.critic_notebook_utils import get_mmse_dict, get_label_separated_loss\n",
    "from denoisplit.core.psnr import PSNR, RangeInvariantPsnr\n",
    "from denoisplit.core.data_split_type import DataSplitType\n",
    "\n",
    "torch.multiprocessing.set_sharing_strategy('file_system')\n",
    "\n",
    "\n",
    "def fix_seeds():\n",
    "    torch.manual_seed(0)\n",
    "    torch.cuda.manual_seed(0)\n",
    "    np.random.seed(0)\n",
    "    random.seed(0)\n",
    "    torch.backends.cudnn.deterministic = True\n",
    "\n"
   ]
  },
  {
   "cell_type": "code",
   "execution_count": null,
   "id": "61080778",
   "metadata": {},
   "outputs": [],
   "source": [
    "subdset_type = None"
   ]
  }
 ],
 "metadata": {
  "kernelspec": {
   "display_name": "DivNoising",
   "language": "python",
   "name": "divnoising"
  },
  "language_info": {
   "codemirror_mode": {
    "name": "ipython",
    "version": 3
   },
   "file_extension": ".py",
   "mimetype": "text/x-python",
   "name": "python",
   "nbconvert_exporter": "python",
   "pygments_lexer": "ipython3",
   "version": "3.6.13 |Anaconda, Inc.| (default, Feb 23 2021, 21:15:04) \n[GCC 7.3.0]"
  }
 },
 "nbformat": 4,
 "nbformat_minor": 5
}
