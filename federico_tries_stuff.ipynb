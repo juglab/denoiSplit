{
 "cells": [
  {
   "cell_type": "code",
   "execution_count": 1,
   "metadata": {},
   "outputs": [
    {
     "name": "stderr",
     "output_type": "stream",
     "text": [
      "/home/ubuntu/miniconda3/envs/Superres/lib/python3.9/site-packages/tqdm/auto.py:21: TqdmWarning: IProgress not found. Please update jupyter and ipywidgets. See https://ipywidgets.readthedocs.io/en/stable/user_install.html\n",
      "  from .autonotebook import tqdm as notebook_tqdm\n"
     ]
    }
   ],
   "source": [
    "import os\n",
    "import torch\n",
    "import numpy as np\n",
    "from denoisplit.configs.hdn_translation_config import get_config\n",
    "from denoisplit.nets.model_utils import create_model"
   ]
  },
  {
   "cell_type": "markdown",
   "metadata": {},
   "source": [
    "### 1. Create a config object  "
   ]
  },
  {
   "cell_type": "code",
   "execution_count": 2,
   "metadata": {},
   "outputs": [],
   "source": [
    "config = get_config()"
   ]
  },
  {
   "cell_type": "code",
   "execution_count": 3,
   "metadata": {},
   "outputs": [],
   "source": [
    "config.data.image_size = 64"
   ]
  },
  {
   "cell_type": "code",
   "execution_count": 4,
   "metadata": {},
   "outputs": [
    {
     "data": {
      "text/plain": [
       "64"
      ]
     },
     "execution_count": 4,
     "metadata": {},
     "output_type": "execute_result"
    }
   ],
   "source": [
    "config.data.image_size"
   ]
  },
  {
   "cell_type": "markdown",
   "metadata": {},
   "source": [
    "### 2. Instantiate the model"
   ]
  },
  {
   "cell_type": "code",
   "execution_count": 5,
   "metadata": {},
   "outputs": [
    {
     "name": "stdout",
     "output_type": "stream",
     "text": [
      "[3, 3] [1, 1]\n",
      "[3, 3] [1, 1]\n",
      "[BottomUpLayer] McEnabled:0 \n",
      "[3, 3] [1, 1]\n",
      "[BottomUpLayer] McEnabled:0 \n",
      "[3, 3] [1, 1]\n",
      "[BottomUpLayer] McEnabled:0 \n",
      "[3, 3] [1, 1]\n",
      "[BottomUpLayer] McEnabled:0 \n",
      "[3, 3] [1, 1]\n",
      "[3, 3] [1, 1]\n",
      "[3, 3] [1, 1]\n",
      "[TopDownLayer] normalize_latent_factor:1.0\n",
      "[3, 3] [1, 1]\n",
      "[3, 3] [1, 1]\n",
      "[3, 3] [1, 1]\n",
      "[TopDownLayer] normalize_latent_factor:1.0\n",
      "[3, 3] [1, 1]\n",
      "[3, 3] [1, 1]\n",
      "[3, 3] [1, 1]\n",
      "[TopDownLayer] normalize_latent_factor:1.0\n",
      "[3, 3] [1, 1]\n",
      "[TopDownLayer] normalize_latent_factor:1.0\n",
      "[3, 3] [1, 1]\n",
      "[GaussianLikelihood] PredLVar:None LowBLVar:-5\n",
      "[LadderVAETranslation] Stoc:True RecMode:False TethInput:False\n"
     ]
    }
   ],
   "source": [
    "data_mean = data_std = {'target': torch.rand(10, 2)}\n",
    "\n",
    "model = create_model(\n",
    "    config, \n",
    "    data_mean=data_mean, \n",
    "    data_std=data_std, \n",
    "    val_idx_manager=None\n",
    ")"
   ]
  },
  {
   "cell_type": "code",
   "execution_count": 17,
   "metadata": {},
   "outputs": [
    {
     "data": {
      "text/plain": [
       "=========================================================================================================\n",
       "Layer (type:depth-idx)                                  Output Shape              Param #\n",
       "=========================================================================================================\n",
       "LadderVAETranslation                                    [32, 1, 64, 64]           --\n",
       "├─Sequential: 1-1                                       [32, 64, 64, 64]          --\n",
       "│    └─Conv2d: 2-1                                      [32, 64, 64, 64]          640\n",
       "│    └─ELU: 2-2                                         [32, 64, 64, 64]          --\n",
       "│    └─BottomUpDeterministicResBlock: 2-3               [32, 64, 64, 64]          --\n",
       "│    │    └─ResidualBlock: 3-1                          [32, 64, 64, 64]          74,112\n",
       "├─ModuleList: 1-2                                       --                        --\n",
       "│    └─BottomUpLayer: 2-4                               [32, 64, 32, 32]          --\n",
       "│    │    └─Sequential: 3-2                             [32, 64, 32, 32]          119,360\n",
       "│    │    └─Sequential: 3-3                             [32, 64, 32, 32]          --\n",
       "│    └─BottomUpLayer: 2-5                               [32, 64, 16, 16]          --\n",
       "│    │    └─Sequential: 3-4                             [32, 64, 16, 16]          119,360\n",
       "│    │    └─Sequential: 3-5                             [32, 64, 16, 16]          --\n",
       "│    └─BottomUpLayer: 2-6                               [32, 64, 8, 8]            --\n",
       "│    │    └─Sequential: 3-6                             [32, 64, 8, 8]            119,360\n",
       "│    │    └─Sequential: 3-7                             [32, 64, 8, 8]            --\n",
       "│    └─BottomUpLayer: 2-7                               [32, 64, 4, 4]            --\n",
       "│    │    └─Sequential: 3-8                             [32, 64, 4, 4]            119,360\n",
       "│    │    └─Sequential: 3-9                             [32, 64, 4, 4]            --\n",
       "├─ModuleList: 1-3                                       --                        --\n",
       "│    └─TopDownLayer: 2-8                                [32, 64, 8, 8]            4,096\n",
       "│    │    └─NormalStochasticBlock2d: 3-10               [32, 64, 4, 4]            221,504\n",
       "│    │    └─Sequential: 3-11                            [32, 64, 8, 8]            119,360\n",
       "│    └─TopDownLayer: 2-9                                [32, 64, 16, 16]          --\n",
       "│    │    └─MergeLayer: 3-12                            [32, 64, 8, 8]            90,688\n",
       "│    │    └─NormalStochasticBlock2d: 3-13               [32, 64, 8, 8]            369,216\n",
       "│    │    └─SkipConnectionMerger: 3-14                  [32, 64, 8, 8]            90,688\n",
       "│    │    └─Sequential: 3-15                            [32, 64, 16, 16]          119,360\n",
       "│    └─TopDownLayer: 2-10                               [32, 64, 32, 32]          --\n",
       "│    │    └─MergeLayer: 3-16                            [32, 64, 16, 16]          90,688\n",
       "│    │    └─NormalStochasticBlock2d: 3-17               [32, 64, 16, 16]          369,216\n",
       "│    │    └─SkipConnectionMerger: 3-18                  [32, 64, 16, 16]          90,688\n",
       "│    │    └─Sequential: 3-19                            [32, 64, 32, 32]          119,360\n",
       "│    └─TopDownLayer: 2-11                               [32, 64, 64, 64]          --\n",
       "│    │    └─MergeLayer: 3-20                            [32, 64, 32, 32]          90,688\n",
       "│    │    └─NormalStochasticBlock2d: 3-21               [32, 64, 32, 32]          369,216\n",
       "│    │    └─SkipConnectionMerger: 3-22                  [32, 64, 32, 32]          90,688\n",
       "│    │    └─Sequential: 3-23                            [32, 64, 64, 64]          119,360\n",
       "├─Sequential: 1-4                                       [32, 64, 64, 64]          --\n",
       "│    └─TopDownDeterministicResBlock: 2-12               [32, 64, 64, 64]          --\n",
       "│    │    └─ResidualBlock: 3-24                         [32, 64, 64, 64]          82,432\n",
       "├─Conv2d: 1-5                                           [32, 1, 64, 64]           577\n",
       "=========================================================================================================\n",
       "Total params: 2,990,017\n",
       "Trainable params: 2,990,017\n",
       "Non-trainable params: 0\n",
       "Total mult-adds (G): 70.30\n",
       "=========================================================================================================\n",
       "Input size (MB): 0.52\n",
       "Forward/backward pass size (MB): 2026.90\n",
       "Params size (MB): 11.94\n",
       "Estimated Total Size (MB): 2039.37\n",
       "========================================================================================================="
      ]
     },
     "execution_count": 17,
     "metadata": {},
     "output_type": "execute_result"
    }
   ],
   "source": [
    "from torchinfo import summary\n",
    "bs = 32\n",
    "summary(model, input_size=(bs, 1, 64, 64))"
   ]
  },
  {
   "cell_type": "code",
   "execution_count": 7,
   "metadata": {},
   "outputs": [
    {
     "data": {
      "text/plain": [
       "==========================================================================================\n",
       "Layer (type:depth-idx)                   Output Shape              Param #\n",
       "==========================================================================================\n",
       "Sequential                               [32, 64, 64, 64]          --\n",
       "├─Conv2d: 1-1                            [32, 64, 64, 64]          640\n",
       "├─ELU: 1-2                               [32, 64, 64, 64]          --\n",
       "├─BottomUpDeterministicResBlock: 1-3     [32, 64, 64, 64]          --\n",
       "│    └─ResidualBlock: 2-1                [32, 64, 64, 64]          --\n",
       "│    │    └─Sequential: 3-1              [32, 64, 64, 64]          74,112\n",
       "==========================================================================================\n",
       "Total params: 74,752\n",
       "Trainable params: 74,752\n",
       "Non-trainable params: 0\n",
       "Total mult-adds (G): 9.76\n",
       "==========================================================================================\n",
       "Input size (MB): 0.52\n",
       "Forward/backward pass size (MB): 335.54\n",
       "Params size (MB): 0.30\n",
       "Estimated Total Size (MB): 336.37\n",
       "=========================================================================================="
      ]
     },
     "execution_count": 7,
     "metadata": {},
     "output_type": "execute_result"
    }
   ],
   "source": [
    "first_bottom_up_block = model.first_bottom_up\n",
    "summary(first_bottom_up_block, input_size=(32, 1, 64, 64))"
   ]
  },
  {
   "cell_type": "code",
   "execution_count": 8,
   "metadata": {},
   "outputs": [],
   "source": [
    "bottom_up_block = model.bottom_up_layers[0]"
   ]
  },
  {
   "cell_type": "code",
   "execution_count": 9,
   "metadata": {},
   "outputs": [
    {
     "data": {
      "text/plain": [
       "===============================================================================================\n",
       "Layer (type:depth-idx)                        Output Shape              Param #\n",
       "===============================================================================================\n",
       "BottomUpLayer                                 [32, 64, 16, 16]          --\n",
       "├─Sequential: 1-1                             [32, 64, 16, 16]          --\n",
       "│    └─BottomUpDeterministicResBlock: 2-1     [32, 64, 16, 16]          --\n",
       "│    │    └─Conv2d: 3-1                       [32, 64, 16, 16]          36,928\n",
       "│    │    └─ResidualBlock: 3-2                [32, 64, 16, 16]          82,432\n",
       "├─Sequential: 1-2                             [32, 64, 16, 16]          --\n",
       "===============================================================================================\n",
       "Total params: 119,360\n",
       "Trainable params: 119,360\n",
       "Non-trainable params: 0\n",
       "Total mult-adds (M): 975.71\n",
       "===============================================================================================\n",
       "Input size (MB): 8.39\n",
       "Forward/backward pass size (MB): 29.36\n",
       "Params size (MB): 0.48\n",
       "Estimated Total Size (MB): 38.23\n",
       "==============================================================================================="
      ]
     },
     "execution_count": 9,
     "metadata": {},
     "output_type": "execute_result"
    }
   ],
   "source": [
    "summary(bottom_up_block, input_size=(32, 64, 32, 32))"
   ]
  },
  {
   "cell_type": "code",
   "execution_count": 21,
   "metadata": {},
   "outputs": [],
   "source": [
    "top_down_layer = model.top_down_layers[1]"
   ]
  },
  {
   "cell_type": "code",
   "execution_count": null,
   "metadata": {},
   "outputs": [],
   "source": [
    "summary(top_down_layer, input_size=(32, 64, 8, 8))"
   ]
  },
  {
   "cell_type": "markdown",
   "metadata": {},
   "source": [
    "Checking how the function `get_reconstruction_loss()` works "
   ]
  },
  {
   "cell_type": "code",
   "execution_count": 13,
   "metadata": {},
   "outputs": [
    {
     "data": {
      "text/plain": [
       "32"
      ]
     },
     "execution_count": 13,
     "metadata": {},
     "output_type": "execute_result"
    }
   ],
   "source": [
    "from denoisplit.nets.lvae import LadderVAE\n",
    "\n",
    "bs = 32\n",
    "h = w = 64\n",
    "img_shape = (bs, 1, h, w) \n",
    "lowres_in = torch.rand(img_shape)\n",
    "highres_gt = torch.rand(img_shape)\n",
    "model_out = torch.rand(img_shape)\n",
    "mask = ~((highres_gt == 0).reshape(len(highres_gt), -1).all(dim=1))\n",
    "\n",
    "(highres_gt == 0).reshape(len(highres_gt), -1)\n",
    "\n",
    "# model.get_reconstruction_loss(reconstruction=model_out, target=highres_gt, input=lowres_in, )"
   ]
  }
 ],
 "metadata": {
  "kernelspec": {
   "display_name": "denoiSplit_superres",
   "language": "python",
   "name": "python3"
  },
  "language_info": {
   "codemirror_mode": {
    "name": "ipython",
    "version": 3
   },
   "file_extension": ".py",
   "mimetype": "text/x-python",
   "name": "python",
   "nbconvert_exporter": "python",
   "pygments_lexer": "ipython3",
   "version": "3.9.16"
  }
 },
 "nbformat": 4,
 "nbformat_minor": 2
}
